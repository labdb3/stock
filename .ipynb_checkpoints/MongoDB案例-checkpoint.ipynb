{
 "cells": [
  {
   "cell_type": "markdown",
   "metadata": {},
   "source": [
    "# MongoDB案例——电商平台"
   ]
  },
  {
   "cell_type": "code",
   "execution_count": 1,
   "metadata": {},
   "outputs": [
    {
     "name": "stdout",
     "output_type": "stream",
     "text": [
      "Looking in indexes: https://pypi.tuna.tsinghua.edu.cn/simple\r\n",
      "Requirement already satisfied: pymongo in ./.local/lib/python3.8/site-packages (4.2.0)\r\n"
     ]
    }
   ],
   "source": [
    "!pip3 install pymongo"
   ]
  },
  {
   "cell_type": "code",
   "execution_count": 2,
   "metadata": {},
   "outputs": [],
   "source": [
    "import pymongo\n",
    "\n",
    "myclient = pymongo.MongoClient('mongodb://localhost:27017/')\n",
    "mydb = myclient['business']  # 创建数据库business\n",
    "mydb.deleteMany({})"
   ]
  },
  {
   "cell_type": "code",
   "execution_count": 3,
   "metadata": {
    "scrolled": true
   },
   "outputs": [
    {
     "name": "stdout",
     "output_type": "stream",
     "text": [
      "['admin', 'config', 'local', 'runoobdb']\n"
     ]
    }
   ],
   "source": [
    "# 显示现有数据库\n",
    "\n",
    "# 目前business数据库中无数据，并不会显示\n",
    "dblist = myclient.list_database_names()\n",
    "print(dblist)"
   ]
  },
  {
   "cell_type": "code",
   "execution_count": 5,
   "metadata": {},
   "outputs": [],
   "source": [
    "# 用户集合users\n",
    "users = mydb['users']\n",
    "# 集合中每个文档包含以下键：用户名userName、性别gender、年龄age、联系电话phone、地址address"
   ]
  },
  {
   "cell_type": "code",
   "execution_count": 6,
   "metadata": {},
   "outputs": [
    {
     "name": "stdout",
     "output_type": "stream",
     "text": [
      "<pymongo.results.InsertOneResult object at 0xfffcc675bf40>\n",
      "63481095120da140dca59191\n"
     ]
    }
   ],
   "source": [
    "# 插入单个文档\n",
    "mydict = {'userName':'李一', 'gender':'female', 'age':20, 'phone':'13500000000', 'address':'北京市海淀区'}\n",
    "\n",
    "x = users.insert_one(mydict)\n",
    "print(x)\n",
    "# _id键为自动生成的文档唯一标识\n",
    "print(x.inserted_id)"
   ]
  },
  {
   "cell_type": "code",
   "execution_count": 7,
   "metadata": {},
   "outputs": [
    {
     "name": "stdout",
     "output_type": "stream",
     "text": [
      "<pymongo.results.InsertManyResult object at 0xfffcc67561c0>\n",
      "[ObjectId('6348125b120da140dca59192'), ObjectId('6348125b120da140dca59193'), ObjectId('6348125b120da140dca59194'), ObjectId('6348125b120da140dca59195'), ObjectId('6348125b120da140dca59196'), ObjectId('6348125b120da140dca59197'), ObjectId('6348125b120da140dca59198'), ObjectId('6348125b120da140dca59199'), ObjectId('6348125b120da140dca5919a')]\n"
     ]
    }
   ],
   "source": [
    "# 插入多个文档\n",
    "mylist = [{'userName':'张二', 'gender':'male', 'age':35, 'phone':'13511111111', 'address':'上海市徐汇区'},\n",
    "          {'userName':'王三', 'gender':'female', 'age':18, 'phone':'13522222222', 'address':'北京市朝阳区'},\n",
    "          {'userName':'吕四', 'gender':'female', 'age':50, 'phone':'13533333333', 'address':'浙江省杭州市上城区'},\n",
    "          {'userName':'周五', 'gender':'male', 'age':27, 'phone':'13544444444', 'address':'重庆市渝中区'},\n",
    "          {'userName':'冯六', 'gender':'female', 'age':33, 'phone':'13555555555', 'address':'四川省成都市武侯区'},\n",
    "          {'userName':'黄七', 'gender':'male', 'age':41, 'phone':'13566666666', 'address':'上海市闵行区'},\n",
    "          {'userName':'赵八', 'gender':'male', 'age':35, 'phone':'13577777777', 'address':'河南省郑州市二七区'},\n",
    "          {'userName':'郑九', 'gender':'female', 'age':19, 'phone':'13588888888', 'address':'天津市和平区'},\n",
    "          {'userName':'姚十', 'gender':'female', 'age':52, 'phone':'13599999999', 'address':'广东省广州市白云区'}\n",
    "         ]\n",
    "\n",
    "x = users.insert_many(mylist)\n",
    "print(x)\n",
    "# _id键为自动生成的文档唯一标识\n",
    "print(x.inserted_ids)"
   ]
  },
  {
   "cell_type": "code",
   "execution_count": 8,
   "metadata": {
    "scrolled": true
   },
   "outputs": [
    {
     "name": "stdout",
     "output_type": "stream",
     "text": [
      "{'_id': ObjectId('63481095120da140dca59191'), 'userName': '李一', 'gender': 'female', 'age': 20, 'phone': '13500000000', 'address': '北京市海淀区'}\n",
      "{'_id': ObjectId('6348125b120da140dca59192'), 'userName': '张二', 'gender': 'male', 'age': 35, 'phone': '13511111111', 'address': '上海市徐汇区'}\n",
      "{'_id': ObjectId('6348125b120da140dca59193'), 'userName': '王三', 'gender': 'female', 'age': 18, 'phone': '13522222222', 'address': '北京市朝阳区'}\n",
      "{'_id': ObjectId('6348125b120da140dca59194'), 'userName': '吕四', 'gender': 'female', 'age': 50, 'phone': '13533333333', 'address': '浙江省杭州市上城区'}\n",
      "{'_id': ObjectId('6348125b120da140dca59195'), 'userName': '周五', 'gender': 'male', 'age': 27, 'phone': '13544444444', 'address': '重庆市渝中区'}\n",
      "{'_id': ObjectId('6348125b120da140dca59196'), 'userName': '冯六', 'gender': 'female', 'age': 33, 'phone': '13555555555', 'address': '四川省成都市武侯区'}\n",
      "{'_id': ObjectId('6348125b120da140dca59197'), 'userName': '黄七', 'gender': 'male', 'age': 41, 'phone': '13566666666', 'address': '上海市闵行区'}\n",
      "{'_id': ObjectId('6348125b120da140dca59198'), 'userName': '赵八', 'gender': 'male', 'age': 35, 'phone': '13577777777', 'address': '河南省郑州市二七区'}\n",
      "{'_id': ObjectId('6348125b120da140dca59199'), 'userName': '郑九', 'gender': 'female', 'age': 19, 'phone': '13588888888', 'address': '天津市和平区'}\n",
      "{'_id': ObjectId('6348125b120da140dca5919a'), 'userName': '姚十', 'gender': 'female', 'age': 52, 'phone': '13599999999', 'address': '广东省广州市白云区'}\n"
     ]
    }
   ],
   "source": [
    "# 查看users集合现有文档\n",
    "for x in users.find():\n",
    "    print(x)"
   ]
  },
  {
   "cell_type": "code",
   "execution_count": 9,
   "metadata": {},
   "outputs": [],
   "source": [
    "# 商品集合commodities\n",
    "commodities = mydb['commodities']\n",
    "# 集合中每个文档包含以下键：商品名称name、价格price、店铺store、类别category、库存amount"
   ]
  },
  {
   "cell_type": "code",
   "execution_count": 10,
   "metadata": {},
   "outputs": [
    {
     "name": "stdout",
     "output_type": "stream",
     "text": [
      "<pymongo.results.InsertOneResult object at 0xfffcc675bf40>\n",
      "634813e8120da140dca5919b\n"
     ]
    }
   ],
   "source": [
    "# 插入单个文档\n",
    "mydict = {'name':'《数据库系统概论》', 'price':30, 'store':'高等教育出版社', 'category':'书籍', 'amount':100}\n",
    "\n",
    "x = commodities.insert_one(mydict)\n",
    "print(x)\n",
    "# _id键为自动生成的文档唯一标识\n",
    "print(x.inserted_id)"
   ]
  },
  {
   "cell_type": "code",
   "execution_count": 11,
   "metadata": {
    "scrolled": true
   },
   "outputs": [
    {
     "name": "stdout",
     "output_type": "stream",
     "text": [
      "<pymongo.results.InsertManyResult object at 0xfffcc4b289d0>\n",
      "[ObjectId('63481467120da140dca5919c'), ObjectId('63481467120da140dca5919d'), ObjectId('63481467120da140dca5919e'), ObjectId('63481467120da140dca5919f'), ObjectId('63481467120da140dca591a0'), ObjectId('63481467120da140dca591a1'), ObjectId('63481467120da140dca591a2'), ObjectId('63481467120da140dca591a3'), ObjectId('63481467120da140dca591a4'), ObjectId('63481467120da140dca591a5'), ObjectId('63481467120da140dca591a6')]\n"
     ]
    }
   ],
   "source": [
    "# 插入多个文档\n",
    "mylist = [{'name':'洗衣液', 'price':38.9, 'store':'天猫超市', 'category':'日用品', 'amount':3500},\n",
    "          {'name':'全麦吐司', 'price':19.9, 'store':'七年五季', 'category':'食品', 'amount':380},\n",
    "          {'name':'欧包', 'price':29.9, 'store':'七年五季', 'category':'食品', 'amount':200},\n",
    "          {'name':'洗衣液', 'price':36.9, 'store':'蓝月亮官方旗舰店', 'category':'日用品', 'amount':2600},\n",
    "          {'name':'手帕纸', 'price':10, 'store':'天猫超市', 'category':'日用品', 'amount':1870},\n",
    "          {'name':'《数据结构》', 'price':50, 'store':'清华大学出版社', 'category':'书籍', 'amount':58},\n",
    "          {'name':'《数据库原理与应用》', 'price':70, 'store':'清华大学出版社', 'category':'书籍', 'amount':500},\n",
    "          {'name':'洗衣液', 'price':15, 'store':'超能官方旗舰店', 'category':'日用品', 'amount':3200},\n",
    "          {'name':'运动鞋', 'price':899, 'store':'耐克官方旗舰店', 'category':'服饰', 'amount':1200},\n",
    "          {'name':'收纳箱', 'price':20, 'store':'收纳日用专营店', 'category':'日用品', 'amount':3900},\n",
    "          {'name':'三九感冒灵颗粒', 'price':35, 'store':'阿里健康大药房', 'category':'药品', 'amount':2150}\n",
    "         ]\n",
    "\n",
    "x = commodities.insert_many(mylist)\n",
    "print(x)\n",
    "# _id键为自动生成的文档唯一标识\n",
    "print(x.inserted_ids)"
   ]
  },
  {
   "cell_type": "code",
   "execution_count": 12,
   "metadata": {},
   "outputs": [
    {
     "name": "stdout",
     "output_type": "stream",
     "text": [
      "{'_id': ObjectId('634813e8120da140dca5919b'), 'name': '《数据库系统概论》', 'price': 30, 'store': '高等教育出版社', 'category': '书籍', 'amount': 100}\n",
      "{'_id': ObjectId('63481467120da140dca5919c'), 'name': '洗衣液', 'price': 38.9, 'store': '天猫超市', 'category': '日用品', 'amount': 3500}\n",
      "{'_id': ObjectId('63481467120da140dca5919d'), 'name': '全麦吐司', 'price': 19.9, 'store': '七年五季', 'category': '食品', 'amount': 380}\n",
      "{'_id': ObjectId('63481467120da140dca5919e'), 'name': '欧包', 'price': 29.9, 'store': '七年五季', 'category': '食品', 'amount': 200}\n",
      "{'_id': ObjectId('63481467120da140dca5919f'), 'name': '洗衣液', 'price': 36.9, 'store': '蓝月亮官方旗舰店', 'category': '日用品', 'amount': 2600}\n",
      "{'_id': ObjectId('63481467120da140dca591a0'), 'name': '手帕纸', 'price': 10, 'store': '天猫超市', 'category': '日用品', 'amount': 1870}\n",
      "{'_id': ObjectId('63481467120da140dca591a1'), 'name': '《数据结构》', 'price': 50, 'store': '清华大学出版社', 'category': '书籍', 'amount': 58}\n",
      "{'_id': ObjectId('63481467120da140dca591a2'), 'name': '《数据库原理与应用》', 'price': 70, 'store': '清华大学出版社', 'category': '书籍', 'amount': 500}\n",
      "{'_id': ObjectId('63481467120da140dca591a3'), 'name': '洗衣液', 'price': 15, 'store': '超能官方旗舰店', 'category': '日用品', 'amount': 3200}\n",
      "{'_id': ObjectId('63481467120da140dca591a4'), 'name': '运动鞋', 'price': 899, 'store': '耐克官方旗舰店', 'category': '服饰', 'amount': 1200}\n",
      "{'_id': ObjectId('63481467120da140dca591a5'), 'name': '收纳箱', 'price': 20, 'store': '收纳日用专营店', 'category': '日用品', 'amount': 3900}\n",
      "{'_id': ObjectId('63481467120da140dca591a6'), 'name': '三九感冒灵颗粒', 'price': 35, 'store': '阿里健康大药房', 'category': '药品', 'amount': 2150}\n"
     ]
    }
   ],
   "source": [
    "# 查看commodities集合现有文档\n",
    "for x in commodities.find():\n",
    "    print(x)"
   ]
  },
  {
   "cell_type": "code",
   "execution_count": 13,
   "metadata": {},
   "outputs": [],
   "source": [
    "# 订单集合orders\n",
    "orders = mydb['orders']\n",
    "# 每个文档包含以下键：用户IDuserId、商品IDcommodityId、数量number、创建时间time、状态status"
   ]
  },
  {
   "cell_type": "code",
   "execution_count": 32,
   "metadata": {},
   "outputs": [],
   "source": [
    "from bson import ObjectId\n",
    "import datetime"
   ]
  },
  {
   "cell_type": "code",
   "execution_count": 44,
   "metadata": {},
   "outputs": [
    {
     "name": "stdout",
     "output_type": "stream",
     "text": [
      "<pymongo.results.InsertOneResult object at 0xfffcc4b05df0>\n",
      "6348cd7b120da140dca591a9\n"
     ]
    }
   ],
   "source": [
    "# 插入单个文档\n",
    "\n",
    "myquery = {'userName':'张二'}\n",
    "mydoc = users.find(myquery)  # 返回结果是Cursor类型\n",
    "for x in mydoc:\n",
    "    # print(type(x))  # 遍历得到字典\n",
    "    userid = x['_id']\n",
    "\n",
    "myquery = {'name':'三九感冒灵颗粒'}\n",
    "mydoc = commodities.find(myquery)  # 返回结果是Cursor类型\n",
    "for x in mydoc:\n",
    "    # print(type(x))  # 遍历得到字典\n",
    "    commodityid = x['_id']\n",
    "\n",
    "mydict = {'userId':userid, 'commodityId':commodityid, 'number':2, \n",
    "          'time':datetime.datetime.strptime(\"2022-09-02 07:58:51\", \"%Y-%m-%d %H:%M:%S\"), 'status':'已发货'}\n",
    "\n",
    "x = orders.insert_one(mydict)\n",
    "print(x)\n",
    "# _id键为自动生成的文档唯一标识\n",
    "print(x.inserted_id)"
   ]
  },
  {
   "cell_type": "code",
   "execution_count": 47,
   "metadata": {},
   "outputs": [
    {
     "name": "stdout",
     "output_type": "stream",
     "text": [
      "<pymongo.results.InsertManyResult object at 0xfffcc4ac42e0>\n",
      "[ObjectId('63490d92120da140dca591aa'), ObjectId('63490d92120da140dca591ab'), ObjectId('63490d92120da140dca591ac'), ObjectId('63490d92120da140dca591ad'), ObjectId('63490d92120da140dca591ae'), ObjectId('63490d92120da140dca591af'), ObjectId('63490d92120da140dca591b0')]\n"
     ]
    }
   ],
   "source": [
    "# 插入多个文档\n",
    "\n",
    "userid = []\n",
    "commodityid = []\n",
    "\n",
    "myquery = {'userName':'吕四'}\n",
    "mydoc = users.find(myquery)  # 返回结果是Cursor类型\n",
    "for x in mydoc:\n",
    "    # print(type(x))  # 遍历得到字典\n",
    "    userid.append(x['_id'])\n",
    "\n",
    "myquery = {'name':'运动鞋'}\n",
    "mydoc = commodities.find(myquery)  # 返回结果是Cursor类型\n",
    "for x in mydoc:\n",
    "    # print(type(x))  # 遍历得到字典\n",
    "    commodityid.append(x['_id'])\n",
    "\n",
    "myquery = {'userName':'郑九'}\n",
    "mydoc = users.find(myquery)  # 返回结果是Cursor类型\n",
    "for x in mydoc:\n",
    "    # print(type(x))  # 遍历得到字典\n",
    "    userid.append(x['_id'])\n",
    "\n",
    "myquery = {'name':'洗衣液', 'store':'天猫超市'}\n",
    "mydoc = commodities.find(myquery)  # 返回结果是Cursor类型\n",
    "for x in mydoc:\n",
    "    # print(type(x))  # 遍历得到字典\n",
    "    commodityid.append(x['_id'])\n",
    "    \n",
    "myquery = {'userName':'姚十'}\n",
    "mydoc = users.find(myquery)  # 返回结果是Cursor类型\n",
    "for x in mydoc:\n",
    "    # print(type(x))  # 遍历得到字典\n",
    "    userid.append(x['_id'])\n",
    "\n",
    "myquery = {'name':'全麦吐司'}\n",
    "mydoc = commodities.find(myquery)  # 返回结果是Cursor类型\n",
    "for x in mydoc:\n",
    "    # print(type(x))  # 遍历得到字典\n",
    "    commodityid.append(x['_id'])\n",
    "\n",
    "myquery = {'name':'收纳箱'}\n",
    "mydoc = commodities.find(myquery)  # 返回结果是Cursor类型\n",
    "for x in mydoc:\n",
    "    # print(type(x))  # 遍历得到字典\n",
    "    commodityid.append(x['_id'])\n",
    "    \n",
    "myquery = {'userName':'周五'}\n",
    "mydoc = users.find(myquery)  # 返回结果是Cursor类型\n",
    "for x in mydoc:\n",
    "    # print(type(x))  # 遍历得到字典\n",
    "    userid.append(x['_id'])\n",
    "\n",
    "myquery = {'name':'《数据库系统概论》'}\n",
    "mydoc = commodities.find(myquery)  # 返回结果是Cursor类型\n",
    "for x in mydoc:\n",
    "    # print(type(x))  # 遍历得到字典\n",
    "    commodityid.append(x['_id'])\n",
    "    \n",
    "myquery = {'name':'《数据库原理与应用》'}\n",
    "mydoc = commodities.find(myquery)  # 返回结果是Cursor类型\n",
    "for x in mydoc:\n",
    "    # print(type(x))  # 遍历得到字典\n",
    "    commodityid.append(x['_id'])\n",
    "    \n",
    "myquery = {'userName':'黄七'}\n",
    "mydoc = users.find(myquery)  # 返回结果是Cursor类型\n",
    "for x in mydoc:\n",
    "    # print(type(x))  # 遍历得到字典\n",
    "    userid.append(x['_id'])\n",
    "\n",
    "myquery = {'name':'手帕纸'}\n",
    "mydoc = commodities.find(myquery)  # 返回结果是Cursor类型\n",
    "for x in mydoc:\n",
    "    # print(type(x))  # 遍历得到字典\n",
    "    commodityid.append(x['_id'])\n",
    "    \n",
    "mylist = [{'userId':userid[0], 'commodityId':commodityid[0], 'number':1, \n",
    "           'time':datetime.datetime.strptime(\"2022-09-05 19:23:00\", \"%Y-%m-%d %H:%M:%S\"), 'status':'已下单'},\n",
    "          {'userId':userid[1], 'commodityId':commodityid[1], 'number':1,\n",
    "           'time':datetime.datetime.strptime(\"2022-09-09 00:21:19\", \"%Y-%m-%d %H:%M:%S\"), 'status':'已收货'},     \n",
    "          {'userId':userid[2], 'commodityId':commodityid[2], 'number':3, \n",
    "           'time':datetime.datetime.strptime(\"2022-09-10 09:53:59\", \"%Y-%m-%d %H:%M:%S\"), 'status':'已收货'},   \n",
    "          {'userId':userid[2], 'commodityId':commodityid[3], 'number':1,     \n",
    "           'time':datetime.datetime.strptime(\"2022-09-17 21:24:32\", \"%Y-%m-%d %H:%M:%S\"), 'status':'已发货'},  \n",
    "          {'userId':userid[3], 'commodityId':commodityid[4], 'number':1,\n",
    "           'time':datetime.datetime.strptime(\"2022-09-28 12:01:45\", \"%Y-%m-%d %H:%M:%S\"), 'status':'已下单'},\n",
    "          {'userId':userid[3], 'commodityId':commodityid[5], 'number':1,\n",
    "           'time':datetime.datetime.strptime(\"2022-09-28 12:10:57\", \"%Y-%m-%d %H:%M:%S\"), 'status':'已下单'},\n",
    "          {'userId':userid[4], 'commodityId':commodityid[6], 'number':5, \n",
    "           'time':datetime.datetime.strptime(\"2022-10-07 22:41:28\", \"%Y-%m-%d %H:%M:%S\"), 'status':'已收货'}\n",
    "         ]\n",
    "\n",
    "x = orders.insert_many(mylist)\n",
    "print(x)\n",
    "# _id键为自动生成的文档唯一标识\n",
    "print(x.inserted_ids)"
   ]
  },
  {
   "cell_type": "code",
   "execution_count": 48,
   "metadata": {},
   "outputs": [
    {
     "name": "stdout",
     "output_type": "stream",
     "text": [
      "{'_id': ObjectId('6348cd7b120da140dca591a9'), 'userId': ObjectId('6348125b120da140dca59192'), 'commodityId': ObjectId('63481467120da140dca591a6'), 'number': 2, 'time': datetime.datetime(2022, 9, 2, 7, 58, 51), 'status': '已发货'}\n",
      "{'_id': ObjectId('63490d92120da140dca591aa'), 'userId': ObjectId('6348125b120da140dca59194'), 'commodityId': ObjectId('63481467120da140dca591a4'), 'number': 1, 'time': datetime.datetime(2022, 9, 5, 19, 23), 'status': '已下单'}\n",
      "{'_id': ObjectId('63490d92120da140dca591ab'), 'userId': ObjectId('6348125b120da140dca59199'), 'commodityId': ObjectId('63481467120da140dca5919c'), 'number': 1, 'time': datetime.datetime(2022, 9, 9, 0, 21, 19), 'status': '已收货'}\n",
      "{'_id': ObjectId('63490d92120da140dca591ac'), 'userId': ObjectId('6348125b120da140dca5919a'), 'commodityId': ObjectId('63481467120da140dca5919d'), 'number': 3, 'time': datetime.datetime(2022, 9, 10, 9, 53, 59), 'status': '已收货'}\n",
      "{'_id': ObjectId('63490d92120da140dca591ad'), 'userId': ObjectId('6348125b120da140dca5919a'), 'commodityId': ObjectId('63481467120da140dca591a5'), 'number': 1, 'time': datetime.datetime(2022, 9, 17, 21, 24, 32), 'status': '已发货'}\n",
      "{'_id': ObjectId('63490d92120da140dca591ae'), 'userId': ObjectId('6348125b120da140dca59195'), 'commodityId': ObjectId('634813e8120da140dca5919b'), 'number': 1, 'time': datetime.datetime(2022, 9, 28, 12, 1, 45), 'status': '已下单'}\n",
      "{'_id': ObjectId('63490d92120da140dca591af'), 'userId': ObjectId('6348125b120da140dca59195'), 'commodityId': ObjectId('63481467120da140dca591a2'), 'number': 1, 'time': datetime.datetime(2022, 9, 28, 12, 10, 57), 'status': '已下单'}\n",
      "{'_id': ObjectId('63490d92120da140dca591b0'), 'userId': ObjectId('6348125b120da140dca59197'), 'commodityId': ObjectId('63481467120da140dca591a0'), 'number': 5, 'time': datetime.datetime(2022, 10, 7, 22, 41, 28), 'status': '已收货'}\n"
     ]
    }
   ],
   "source": [
    "# 查看orders集合现有文档\n",
    "for x in orders.find():\n",
    "    print(x)"
   ]
  },
  {
   "cell_type": "code",
   "execution_count": 49,
   "metadata": {},
   "outputs": [
    {
     "name": "stdout",
     "output_type": "stream",
     "text": [
      "['users', 'commodities', 'orders']\n"
     ]
    }
   ],
   "source": [
    "# 显示数据库business中现有集合\n",
    "collist = mydb.list_collection_names()\n",
    "print(collist)\n",
    "\n",
    "# 删除集合\n",
    "# users.drop()"
   ]
  },
  {
   "cell_type": "code",
   "execution_count": 51,
   "metadata": {},
   "outputs": [
    {
     "name": "stdout",
     "output_type": "stream",
     "text": [
      "12\n"
     ]
    }
   ],
   "source": [
    "# 查询商品集合现有文档数量\n",
    "\n",
    "# 4.0版本后Cursor类的count方法被删除\n",
    "print(commodities.estimated_document_count())"
   ]
  },
  {
   "cell_type": "code",
   "execution_count": 53,
   "metadata": {},
   "outputs": [
    {
     "name": "stdout",
     "output_type": "stream",
     "text": [
      "{'_id': ObjectId('63481095120da140dca59191'), 'userName': '李一', 'gender': 'female', 'age': 21, 'phone': '13500000000', 'address': '北京市海淀区'}\n",
      "{'_id': ObjectId('63481095120da140dca59191'), 'userName': '李一', 'gender': 'female', 'age': 18, 'phone': '13500000000', 'address': '北京市海淀区', 'email': '11111111@qq.com'}\n"
     ]
    }
   ],
   "source": [
    "# 修改文档\n",
    "\n",
    "# $set修改操作符\n",
    "\n",
    "# 修改已有键对应的值\n",
    "myquery = {'userName':'李一'}\n",
    "newvalues = {'$set':{'age':21}}\n",
    "\n",
    "users.update_one(myquery, newvalues)\n",
    "for x in users.find({'userName':'李一'}):\n",
    "    print(x)\n",
    "\n",
    "# 同时可以增加不存在的键值对\n",
    "myquery = {'userName':'李一'}\n",
    "newvalues = {'$set':{'age':18, 'email':'11111111@qq.com'}}\n",
    "\n",
    "users.update_one(myquery, newvalues)\n",
    "for x in users.find({'userName':'李一'}):\n",
    "    print(x)"
   ]
  },
  {
   "cell_type": "code",
   "execution_count": null,
   "metadata": {},
   "outputs": [],
   "source": []
  },
  {
   "cell_type": "code",
   "execution_count": 54,
   "metadata": {},
   "outputs": [
    {
     "name": "stdout",
     "output_type": "stream",
     "text": [
      "{'_id': ObjectId('63481095120da140dca59191'), 'userName': '李一', 'gender': 'female', 'age': 18, 'phone': '13500000000', 'address': '北京市海淀区'}\n"
     ]
    }
   ],
   "source": [
    "# 修改文档\n",
    "\n",
    "# $unset删除操作符\n",
    "myquery = {'userName':'李一'}\n",
    "newvalues = {'$unset':{'email':'11111111@qq.com'}}\n",
    "\n",
    "users.update_one(myquery, newvalues)\n",
    "for x in users.find({'userName':'李一'}):\n",
    "    print(x)"
   ]
  },
  {
   "cell_type": "code",
   "execution_count": 57,
   "metadata": {},
   "outputs": [
    {
     "name": "stdout",
     "output_type": "stream",
     "text": [
      "{'_id': ObjectId('63481095120da140dca59191'), 'userName': '李一', 'gender': 'female', 'age': 18, 'phone': '13500000000', 'address': '北京市海淀区', 'email': '11111111@qq.com'}\n",
      "{'_id': ObjectId('6348125b120da140dca59193'), 'userName': '王三', 'gender': 'female', 'age': 18, 'phone': '13522222222', 'address': '北京市朝阳区', 'email': '11111111@qq.com'}\n",
      "----------------------------------------------------------------------------------------------------------------------------\n",
      "{'_id': ObjectId('63481095120da140dca59191'), 'userName': '李一', 'gender': 'female', 'age': 18, 'phone': '13500000000', 'address': '北京市海淀区'}\n",
      "{'_id': ObjectId('6348125b120da140dca59193'), 'userName': '王三', 'gender': 'female', 'age': 18, 'phone': '13522222222', 'address': '北京市朝阳区'}\n"
     ]
    }
   ],
   "source": [
    "# 修改文档\n",
    "\n",
    "# 同时修改多个符合条件的文档\n",
    "myquery = {'age':18}\n",
    "newvalues = {'$set':{'email':'11111111@qq.com'}}\n",
    "\n",
    "users.update_many(myquery, newvalues)\n",
    "for x in users.find({'age':18}):\n",
    "    print(x)\n",
    "\n",
    "print('----------------------------------------------------------------------------------------------------------------------------')\n",
    "\n",
    "myquery = {'age':18}\n",
    "newvalues = {'$unset':{'email':'11111111@qq.com'}}\n",
    "\n",
    "users.update_many(myquery, newvalues)\n",
    "for x in users.find({'age':18}):\n",
    "    print(x)"
   ]
  },
  {
   "cell_type": "code",
   "execution_count": 59,
   "metadata": {},
   "outputs": [
    {
     "name": "stdout",
     "output_type": "stream",
     "text": [
      "{'_id': ObjectId('634813e8120da140dca5919b'), 'name': '《数据库系统概论》', 'price': 30, 'store': '高等教育出版社', 'category': '书籍', 'amount': 110}\n",
      "{'_id': ObjectId('63481467120da140dca591a1'), 'name': '《数据结构》', 'price': 50, 'store': '清华大学出版社', 'category': '书籍', 'amount': 68}\n",
      "----------------------------------------------------------------------------------------------------------------------------\n",
      "{'_id': ObjectId('634813e8120da140dca5919b'), 'name': '《数据库系统概论》', 'price': 30, 'store': '高等教育出版社', 'category': '书籍', 'amount': 100}\n",
      "{'_id': ObjectId('63481467120da140dca591a1'), 'name': '《数据结构》', 'price': 50, 'store': '清华大学出版社', 'category': '书籍', 'amount': 58}\n"
     ]
    }
   ],
   "source": [
    "# 修改文档\n",
    "\n",
    "# $inc自增操作符\n",
    "myquery = {'amount':{'$lte':100}}\n",
    "newvalues = {'$inc':{'amount':10}}\n",
    "\n",
    "commodities.update_many(myquery, newvalues)\n",
    "for x in commodities.find({'amount':{'$lte':110}}):\n",
    "    print(x)\n",
    "\n",
    "print('----------------------------------------------------------------------------------------------------------------------------')\n",
    "    \n",
    "# 恢复原始数据\n",
    "myquery = {'amount':{'$lte':110}}\n",
    "newvalues = {'$inc':{'amount':-10}}\n",
    "\n",
    "commodities.update_many(myquery, newvalues)\n",
    "for x in commodities.find({'amount':{'$lte':110}}):\n",
    "    print(x)"
   ]
  },
  {
   "cell_type": "code",
   "execution_count": 60,
   "metadata": {},
   "outputs": [
    {
     "name": "stdout",
     "output_type": "stream",
     "text": [
      "{'_id': ObjectId('6348cd7b120da140dca591a9'), 'userId': ObjectId('6348125b120da140dca59192'), 'commodityId': ObjectId('63481467120da140dca591a6'), 'number': 2, 'time': datetime.datetime(2022, 9, 2, 7, 58, 51), 'status': '已发货'}\n",
      "{'_id': ObjectId('63490d92120da140dca591aa'), 'userId': ObjectId('6348125b120da140dca59194'), 'commodityId': ObjectId('63481467120da140dca591a4'), 'number': 1, 'time': datetime.datetime(2022, 9, 5, 19, 23), 'status': '已下单'}\n",
      "{'_id': ObjectId('63490d92120da140dca591ab'), 'userId': ObjectId('6348125b120da140dca59199'), 'commodityId': ObjectId('63481467120da140dca5919c'), 'number': 1, 'time': datetime.datetime(2022, 9, 9, 0, 21, 19), 'status': '已收货'}\n",
      "{'_id': ObjectId('63490d92120da140dca591ac'), 'userId': ObjectId('6348125b120da140dca5919a'), 'commodityId': ObjectId('63481467120da140dca5919d'), 'number': 3, 'time': datetime.datetime(2022, 9, 10, 9, 53, 59), 'status': '已收货'}\n",
      "{'_id': ObjectId('63490d92120da140dca591ad'), 'userId': ObjectId('6348125b120da140dca5919a'), 'commodityId': ObjectId('63481467120da140dca591a5'), 'number': 1, 'time': datetime.datetime(2022, 9, 17, 21, 24, 32), 'status': '已发货'}\n",
      "{'_id': ObjectId('63490d92120da140dca591ae'), 'userId': ObjectId('6348125b120da140dca59195'), 'commodityId': ObjectId('634813e8120da140dca5919b'), 'number': 1, 'time': datetime.datetime(2022, 9, 28, 12, 1, 45), 'status': '已下单'}\n",
      "{'_id': ObjectId('63490d92120da140dca591af'), 'userId': ObjectId('6348125b120da140dca59195'), 'commodityId': ObjectId('63481467120da140dca591a2'), 'number': 1, 'time': datetime.datetime(2022, 9, 28, 12, 10, 57), 'status': '已下单'}\n",
      "{'_id': ObjectId('63490d92120da140dca591b0'), 'userId': ObjectId('6348125b120da140dca59197'), 'commodityId': ObjectId('63481467120da140dca591a0'), 'number': 5, 'time': datetime.datetime(2022, 10, 7, 22, 41, 28), 'status': '已收货'}\n",
      "{'_id': ObjectId('6349263c120da140dca591b1'), 'id': 111}\n",
      "----------------------------------------------------------------------------------------------------------------------------\n",
      "{'_id': ObjectId('6348cd7b120da140dca591a9'), 'userId': ObjectId('6348125b120da140dca59192'), 'commodityId': ObjectId('63481467120da140dca591a6'), 'number': 2, 'time': datetime.datetime(2022, 9, 2, 7, 58, 51), 'status': '已发货'}\n",
      "{'_id': ObjectId('63490d92120da140dca591aa'), 'userId': ObjectId('6348125b120da140dca59194'), 'commodityId': ObjectId('63481467120da140dca591a4'), 'number': 1, 'time': datetime.datetime(2022, 9, 5, 19, 23), 'status': '已下单'}\n",
      "{'_id': ObjectId('63490d92120da140dca591ab'), 'userId': ObjectId('6348125b120da140dca59199'), 'commodityId': ObjectId('63481467120da140dca5919c'), 'number': 1, 'time': datetime.datetime(2022, 9, 9, 0, 21, 19), 'status': '已收货'}\n",
      "{'_id': ObjectId('63490d92120da140dca591ac'), 'userId': ObjectId('6348125b120da140dca5919a'), 'commodityId': ObjectId('63481467120da140dca5919d'), 'number': 3, 'time': datetime.datetime(2022, 9, 10, 9, 53, 59), 'status': '已收货'}\n",
      "{'_id': ObjectId('63490d92120da140dca591ad'), 'userId': ObjectId('6348125b120da140dca5919a'), 'commodityId': ObjectId('63481467120da140dca591a5'), 'number': 1, 'time': datetime.datetime(2022, 9, 17, 21, 24, 32), 'status': '已发货'}\n",
      "{'_id': ObjectId('63490d92120da140dca591ae'), 'userId': ObjectId('6348125b120da140dca59195'), 'commodityId': ObjectId('634813e8120da140dca5919b'), 'number': 1, 'time': datetime.datetime(2022, 9, 28, 12, 1, 45), 'status': '已下单'}\n",
      "{'_id': ObjectId('63490d92120da140dca591af'), 'userId': ObjectId('6348125b120da140dca59195'), 'commodityId': ObjectId('63481467120da140dca591a2'), 'number': 1, 'time': datetime.datetime(2022, 9, 28, 12, 10, 57), 'status': '已下单'}\n",
      "{'_id': ObjectId('63490d92120da140dca591b0'), 'userId': ObjectId('6348125b120da140dca59197'), 'commodityId': ObjectId('63481467120da140dca591a0'), 'number': 5, 'time': datetime.datetime(2022, 10, 7, 22, 41, 28), 'status': '已收货'}\n"
     ]
    }
   ],
   "source": [
    "# 删除文档\n",
    "\n",
    "myquery = {'id':111}\n",
    "\n",
    "orders.insert_one(myquery)\n",
    "for x in orders.find():\n",
    "    print(x)\n",
    "\n",
    "print('----------------------------------------------------------------------------------------------------------------------------')\n",
    "    \n",
    "orders.delete_many(myquery)\n",
    "for x in orders.find():\n",
    "    print(x)"
   ]
  },
  {
   "cell_type": "code",
   "execution_count": 61,
   "metadata": {},
   "outputs": [
    {
     "name": "stdout",
     "output_type": "stream",
     "text": [
      "{'_id': ObjectId('63490d92120da140dca591aa'), 'userId': ObjectId('6348125b120da140dca59194'), 'commodityId': ObjectId('63481467120da140dca591a4'), 'number': 1, 'time': datetime.datetime(2022, 9, 5, 19, 23), 'status': '已下单'}\n",
      "{'_id': ObjectId('63490d92120da140dca591ae'), 'userId': ObjectId('6348125b120da140dca59195'), 'commodityId': ObjectId('634813e8120da140dca5919b'), 'number': 1, 'time': datetime.datetime(2022, 9, 28, 12, 1, 45), 'status': '已下单'}\n",
      "{'_id': ObjectId('63490d92120da140dca591af'), 'userId': ObjectId('6348125b120da140dca59195'), 'commodityId': ObjectId('63481467120da140dca591a2'), 'number': 1, 'time': datetime.datetime(2022, 9, 28, 12, 10, 57), 'status': '已下单'}\n"
     ]
    }
   ],
   "source": [
    "# 按条件查询文档\n",
    "cursor = orders.find({'status':'已下单'})\n",
    "for x in cursor:\n",
    "    print(x)"
   ]
  },
  {
   "cell_type": "code",
   "execution_count": 62,
   "metadata": {},
   "outputs": [
    {
     "name": "stdout",
     "output_type": "stream",
     "text": [
      "{'_id': ObjectId('63490d92120da140dca591ae'), 'userId': ObjectId('6348125b120da140dca59195'), 'commodityId': ObjectId('634813e8120da140dca5919b'), 'number': 1, 'time': datetime.datetime(2022, 9, 28, 12, 1, 45), 'status': '已下单'}\n",
      "{'_id': ObjectId('63490d92120da140dca591af'), 'userId': ObjectId('6348125b120da140dca59195'), 'commodityId': ObjectId('63481467120da140dca591a2'), 'number': 1, 'time': datetime.datetime(2022, 9, 28, 12, 10, 57), 'status': '已下单'}\n"
     ]
    }
   ],
   "source": [
    "# 按条件查询文档\n",
    "# AND\n",
    "cursor = orders.find({'status':'已下单', 'userId':ObjectId('6348125b120da140dca59195')})\n",
    "for x in cursor:\n",
    "    print(x)"
   ]
  },
  {
   "cell_type": "code",
   "execution_count": 63,
   "metadata": {},
   "outputs": [
    {
     "name": "stdout",
     "output_type": "stream",
     "text": [
      "{'_id': ObjectId('63490d92120da140dca591aa'), 'userId': ObjectId('6348125b120da140dca59194'), 'commodityId': ObjectId('63481467120da140dca591a4'), 'number': 1, 'time': datetime.datetime(2022, 9, 5, 19, 23), 'status': '已下单'}\n",
      "{'_id': ObjectId('63490d92120da140dca591ab'), 'userId': ObjectId('6348125b120da140dca59199'), 'commodityId': ObjectId('63481467120da140dca5919c'), 'number': 1, 'time': datetime.datetime(2022, 9, 9, 0, 21, 19), 'status': '已收货'}\n",
      "{'_id': ObjectId('63490d92120da140dca591ac'), 'userId': ObjectId('6348125b120da140dca5919a'), 'commodityId': ObjectId('63481467120da140dca5919d'), 'number': 3, 'time': datetime.datetime(2022, 9, 10, 9, 53, 59), 'status': '已收货'}\n",
      "{'_id': ObjectId('63490d92120da140dca591ae'), 'userId': ObjectId('6348125b120da140dca59195'), 'commodityId': ObjectId('634813e8120da140dca5919b'), 'number': 1, 'time': datetime.datetime(2022, 9, 28, 12, 1, 45), 'status': '已下单'}\n",
      "{'_id': ObjectId('63490d92120da140dca591af'), 'userId': ObjectId('6348125b120da140dca59195'), 'commodityId': ObjectId('63481467120da140dca591a2'), 'number': 1, 'time': datetime.datetime(2022, 9, 28, 12, 10, 57), 'status': '已下单'}\n",
      "{'_id': ObjectId('63490d92120da140dca591b0'), 'userId': ObjectId('6348125b120da140dca59197'), 'commodityId': ObjectId('63481467120da140dca591a0'), 'number': 5, 'time': datetime.datetime(2022, 10, 7, 22, 41, 28), 'status': '已收货'}\n"
     ]
    }
   ],
   "source": [
    "# 按条件查询文档\n",
    "# OR\n",
    "cursor = orders.find({'$or':[{'status':'已下单'}, {'status':'已收货'}]})\n",
    "for x in cursor:\n",
    "    print(x)"
   ]
  },
  {
   "cell_type": "code",
   "execution_count": 64,
   "metadata": {},
   "outputs": [
    {
     "name": "stdout",
     "output_type": "stream",
     "text": [
      "{'_id': ObjectId('63481467120da140dca591a2'), 'name': '《数据库原理与应用》', 'price': 70, 'store': '清华大学出版社', 'category': '书籍', 'amount': 500}\n",
      "{'_id': ObjectId('63481467120da140dca591a4'), 'name': '运动鞋', 'price': 899, 'store': '耐克官方旗舰店', 'category': '服饰', 'amount': 1200}\n"
     ]
    }
   ],
   "source": [
    "# 按条件查询文档\n",
    "# 大于\n",
    "myquery = {'price':{'$gt':50}}\n",
    "cursor = commodities.find(myquery)\n",
    "for x in cursor:\n",
    "    print(x)"
   ]
  },
  {
   "cell_type": "code",
   "execution_count": 65,
   "metadata": {},
   "outputs": [
    {
     "name": "stdout",
     "output_type": "stream",
     "text": [
      "{'_id': ObjectId('63481467120da140dca591a1'), 'name': '《数据结构》', 'price': 50, 'store': '清华大学出版社', 'category': '书籍', 'amount': 58}\n",
      "{'_id': ObjectId('63481467120da140dca591a2'), 'name': '《数据库原理与应用》', 'price': 70, 'store': '清华大学出版社', 'category': '书籍', 'amount': 500}\n",
      "{'_id': ObjectId('63481467120da140dca591a4'), 'name': '运动鞋', 'price': 899, 'store': '耐克官方旗舰店', 'category': '服饰', 'amount': 1200}\n"
     ]
    }
   ],
   "source": [
    "# 按条件查询文档\n",
    "# 大于等于\n",
    "myquery = {'price':{'$gte':50}}\n",
    "cursor = commodities.find(myquery)\n",
    "for x in cursor:\n",
    "    print(x)"
   ]
  },
  {
   "cell_type": "code",
   "execution_count": 66,
   "metadata": {},
   "outputs": [
    {
     "name": "stdout",
     "output_type": "stream",
     "text": [
      "{'_id': ObjectId('63481467120da140dca591a1'), 'name': '《数据结构》', 'price': 50, 'store': '清华大学出版社', 'category': '书籍', 'amount': 58}\n"
     ]
    }
   ],
   "source": [
    "# 按条件查询文档\n",
    "# 小于\n",
    "myquery = {'amount':{'$lt':100}}\n",
    "cursor = commodities.find(myquery)\n",
    "for x in cursor:\n",
    "    print(x)"
   ]
  },
  {
   "cell_type": "code",
   "execution_count": 67,
   "metadata": {},
   "outputs": [
    {
     "name": "stdout",
     "output_type": "stream",
     "text": [
      "{'_id': ObjectId('634813e8120da140dca5919b'), 'name': '《数据库系统概论》', 'price': 30, 'store': '高等教育出版社', 'category': '书籍', 'amount': 100}\n",
      "{'_id': ObjectId('63481467120da140dca591a1'), 'name': '《数据结构》', 'price': 50, 'store': '清华大学出版社', 'category': '书籍', 'amount': 58}\n"
     ]
    }
   ],
   "source": [
    "# 按条件查询文档\n",
    "# 小于等于\n",
    "myquery = {'amount':{'$lte':100}}\n",
    "cursor = commodities.find(myquery)\n",
    "for x in cursor:\n",
    "    print(x)"
   ]
  },
  {
   "cell_type": "code",
   "execution_count": 68,
   "metadata": {},
   "outputs": [
    {
     "name": "stdout",
     "output_type": "stream",
     "text": [
      "{'_id': ObjectId('63481467120da140dca5919d'), 'name': '全麦吐司', 'price': 19.9, 'store': '七年五季', 'category': '食品', 'amount': 380}\n",
      "{'_id': ObjectId('63481467120da140dca5919e'), 'name': '欧包', 'price': 29.9, 'store': '七年五季', 'category': '食品', 'amount': 200}\n",
      "{'_id': ObjectId('63481467120da140dca591a0'), 'name': '手帕纸', 'price': 10, 'store': '天猫超市', 'category': '日用品', 'amount': 1870}\n",
      "{'_id': ObjectId('63481467120da140dca591a2'), 'name': '《数据库原理与应用》', 'price': 70, 'store': '清华大学出版社', 'category': '书籍', 'amount': 500}\n",
      "{'_id': ObjectId('63481467120da140dca591a4'), 'name': '运动鞋', 'price': 899, 'store': '耐克官方旗舰店', 'category': '服饰', 'amount': 1200}\n"
     ]
    }
   ],
   "source": [
    "# 按条件查询文档\n",
    "# 大于+小于\n",
    "myquery = {'amount':{'$gt':100, '$lt':2000}}\n",
    "cursor = commodities.find(myquery)\n",
    "for x in cursor:\n",
    "    print(x)"
   ]
  },
  {
   "cell_type": "code",
   "execution_count": 69,
   "metadata": {},
   "outputs": [
    {
     "name": "stdout",
     "output_type": "stream",
     "text": [
      "{'_id': ObjectId('634813e8120da140dca5919b'), 'name': '《数据库系统概论》', 'price': 30, 'store': '高等教育出版社', 'category': '书籍', 'amount': 100}\n",
      "{'_id': ObjectId('63481467120da140dca5919c'), 'name': '洗衣液', 'price': 38.9, 'store': '天猫超市', 'category': '日用品', 'amount': 3500}\n",
      "{'_id': ObjectId('63481467120da140dca5919d'), 'name': '全麦吐司', 'price': 19.9, 'store': '七年五季', 'category': '食品', 'amount': 380}\n"
     ]
    }
   ],
   "source": [
    "# limit设置显示数据的上限\n",
    "cursor = commodities.find().limit(3)\n",
    "for x in cursor:\n",
    "    print(x)"
   ]
  },
  {
   "cell_type": "code",
   "execution_count": 70,
   "metadata": {},
   "outputs": [
    {
     "name": "stdout",
     "output_type": "stream",
     "text": [
      "{'_id': ObjectId('63481467120da140dca5919e'), 'name': '欧包', 'price': 29.9, 'store': '七年五季', 'category': '食品', 'amount': 200}\n",
      "{'_id': ObjectId('63481467120da140dca5919f'), 'name': '洗衣液', 'price': 36.9, 'store': '蓝月亮官方旗舰店', 'category': '日用品', 'amount': 2600}\n",
      "{'_id': ObjectId('63481467120da140dca591a0'), 'name': '手帕纸', 'price': 10, 'store': '天猫超市', 'category': '日用品', 'amount': 1870}\n"
     ]
    }
   ],
   "source": [
    "# skip跳过指定数量的数据\n",
    "cursor = commodities.find().skip(3).limit(3)\n",
    "for x in cursor:\n",
    "    print(x)"
   ]
  },
  {
   "cell_type": "code",
   "execution_count": 78,
   "metadata": {},
   "outputs": [
    {
     "name": "stdout",
     "output_type": "stream",
     "text": [
      "{'_id': ObjectId('63481095120da140dca59191'), 'userName': '李一', 'gender': 'female', 'age': 18, 'phone': '13500000000', 'address': '北京市海淀区', 'hobby': {'movie': ['肖申克的救赎', '楚门的世界'], 'book': ['平凡的世界', '围城', '东方快车谋杀案']}}\n",
      "----------------------------------------------------------------------------------------------------------------------------\n",
      "{'_id': ObjectId('63481095120da140dca59191'), 'userName': '李一', 'gender': 'female', 'age': 18, 'phone': '13500000000', 'address': '北京市海淀区', 'hobby': {'movie': ['肖申克的救赎', '楚门的世界', '海上钢琴师'], 'book': ['平凡的世界', '围城', '东方快车谋杀案']}}\n",
      "----------------------------------------------------------------------------------------------------------------------------\n",
      "{'_id': ObjectId('63481095120da140dca59191'), 'userName': '李一', 'gender': 'female', 'age': 18, 'phone': '13500000000', 'address': '北京市海淀区'}\n"
     ]
    }
   ],
   "source": [
    "# 内嵌文档的查询及修改\n",
    "\n",
    "myquery = {'userName':'李一'}\n",
    "newvalues = {'$set':{'hobby':{'movie':['肖申克的救赎', '楚门的世界'], 'book':['平凡的世界', '围城', '东方快车谋杀案']}}}\n",
    "users.update_one(myquery, newvalues)\n",
    "\n",
    "# 查询\n",
    "for x in users.find({'hobby.movie':'楚门的世界'}):\n",
    "    print(x) \n",
    "print('----------------------------------------------------------------------------------------------------------------------------')\n",
    "    \n",
    "# 修改，使用$push增加数组元素操作符\n",
    "newvalues = {'$push':{'hobby.movie':'海上钢琴师'}}\n",
    "users.update_one(myquery, newvalues)\n",
    "for x in users.find({'userName':'李一'}):\n",
    "    print(x)\n",
    "print('----------------------------------------------------------------------------------------------------------------------------')\n",
    "\n",
    "# 恢复数据\n",
    "newvalues = {'$unset':{'hobby':{'movie':['肖申克的救赎', '楚门的世界', '海上钢琴师'], 'book':['平凡的世界', '围城', '东方快车谋杀案']}}}\n",
    "users.update_one(myquery, newvalues)\n",
    "for x in users.find({'userName':'李一'}):\n",
    "    print(x)"
   ]
  },
  {
   "cell_type": "code",
   "execution_count": 81,
   "metadata": {},
   "outputs": [
    {
     "name": "stdout",
     "output_type": "stream",
     "text": [
      "{'_id': ObjectId('63481467120da140dca591a0'), 'name': '手帕纸', 'price': 10, 'store': '天猫超市', 'category': '日用品', 'amount': 1870}\n",
      "{'_id': ObjectId('63481467120da140dca591a3'), 'name': '洗衣液', 'price': 15, 'store': '超能官方旗舰店', 'category': '日用品', 'amount': 3200}\n",
      "{'_id': ObjectId('63481467120da140dca5919d'), 'name': '全麦吐司', 'price': 19.9, 'store': '七年五季', 'category': '食品', 'amount': 380}\n",
      "{'_id': ObjectId('63481467120da140dca591a5'), 'name': '收纳箱', 'price': 20, 'store': '收纳日用专营店', 'category': '日用品', 'amount': 3900}\n",
      "{'_id': ObjectId('63481467120da140dca5919e'), 'name': '欧包', 'price': 29.9, 'store': '七年五季', 'category': '食品', 'amount': 200}\n",
      "{'_id': ObjectId('634813e8120da140dca5919b'), 'name': '《数据库系统概论》', 'price': 30, 'store': '高等教育出版社', 'category': '书籍', 'amount': 100}\n",
      "{'_id': ObjectId('63481467120da140dca591a6'), 'name': '三九感冒灵颗粒', 'price': 35, 'store': '阿里健康大药房', 'category': '药品', 'amount': 2150}\n",
      "{'_id': ObjectId('63481467120da140dca5919f'), 'name': '洗衣液', 'price': 36.9, 'store': '蓝月亮官方旗舰店', 'category': '日用品', 'amount': 2600}\n",
      "{'_id': ObjectId('63481467120da140dca5919c'), 'name': '洗衣液', 'price': 38.9, 'store': '天猫超市', 'category': '日用品', 'amount': 3500}\n",
      "{'_id': ObjectId('63481467120da140dca591a1'), 'name': '《数据结构》', 'price': 50, 'store': '清华大学出版社', 'category': '书籍', 'amount': 58}\n",
      "{'_id': ObjectId('63481467120da140dca591a2'), 'name': '《数据库原理与应用》', 'price': 70, 'store': '清华大学出版社', 'category': '书籍', 'amount': 500}\n",
      "{'_id': ObjectId('63481467120da140dca591a4'), 'name': '运动鞋', 'price': 899, 'store': '耐克官方旗舰店', 'category': '服饰', 'amount': 1200}\n"
     ]
    }
   ],
   "source": [
    "# 查询文档时，默认是按照_id值升序排列的\n",
    "\n",
    "# sort()可用来指定文档排序规则\n",
    "\n",
    "# 1表示升序排列\n",
    "mydoc = commodities.find().sort('price', 1)\n",
    "for x in mydoc:\n",
    "    print(x)"
   ]
  },
  {
   "cell_type": "code",
   "execution_count": 82,
   "metadata": {},
   "outputs": [
    {
     "name": "stdout",
     "output_type": "stream",
     "text": [
      "{'_id': ObjectId('63481467120da140dca591a4'), 'name': '运动鞋', 'price': 899, 'store': '耐克官方旗舰店', 'category': '服饰', 'amount': 1200}\n",
      "{'_id': ObjectId('63481467120da140dca591a2'), 'name': '《数据库原理与应用》', 'price': 70, 'store': '清华大学出版社', 'category': '书籍', 'amount': 500}\n",
      "{'_id': ObjectId('63481467120da140dca591a1'), 'name': '《数据结构》', 'price': 50, 'store': '清华大学出版社', 'category': '书籍', 'amount': 58}\n",
      "{'_id': ObjectId('63481467120da140dca5919c'), 'name': '洗衣液', 'price': 38.9, 'store': '天猫超市', 'category': '日用品', 'amount': 3500}\n",
      "{'_id': ObjectId('63481467120da140dca5919f'), 'name': '洗衣液', 'price': 36.9, 'store': '蓝月亮官方旗舰店', 'category': '日用品', 'amount': 2600}\n",
      "{'_id': ObjectId('63481467120da140dca591a6'), 'name': '三九感冒灵颗粒', 'price': 35, 'store': '阿里健康大药房', 'category': '药品', 'amount': 2150}\n",
      "{'_id': ObjectId('634813e8120da140dca5919b'), 'name': '《数据库系统概论》', 'price': 30, 'store': '高等教育出版社', 'category': '书籍', 'amount': 100}\n",
      "{'_id': ObjectId('63481467120da140dca5919e'), 'name': '欧包', 'price': 29.9, 'store': '七年五季', 'category': '食品', 'amount': 200}\n",
      "{'_id': ObjectId('63481467120da140dca591a5'), 'name': '收纳箱', 'price': 20, 'store': '收纳日用专营店', 'category': '日用品', 'amount': 3900}\n",
      "{'_id': ObjectId('63481467120da140dca5919d'), 'name': '全麦吐司', 'price': 19.9, 'store': '七年五季', 'category': '食品', 'amount': 380}\n",
      "{'_id': ObjectId('63481467120da140dca591a3'), 'name': '洗衣液', 'price': 15, 'store': '超能官方旗舰店', 'category': '日用品', 'amount': 3200}\n",
      "{'_id': ObjectId('63481467120da140dca591a0'), 'name': '手帕纸', 'price': 10, 'store': '天猫超市', 'category': '日用品', 'amount': 1870}\n"
     ]
    }
   ],
   "source": [
    "# 查询文档时，默认是按照_id值升序排列的\n",
    "\n",
    "# sort()可用来指定文档排序规则\n",
    "\n",
    "# -1表示降序排列\n",
    "mydoc = commodities.find().sort('price', -1)\n",
    "for x in mydoc:\n",
    "    print(x)"
   ]
  },
  {
   "cell_type": "code",
   "execution_count": 84,
   "metadata": {},
   "outputs": [
    {
     "name": "stdout",
     "output_type": "stream",
     "text": [
      "{'_id': ObjectId('63481467120da140dca591a0'), 'name': '手帕纸', 'price': 10, 'store': '天猫超市', 'category': '日用品', 'amount': 1870}\n",
      "{'_id': ObjectId('63481467120da140dca591a3'), 'name': '洗衣液', 'price': 15, 'store': '超能官方旗舰店', 'category': '日用品', 'amount': 3200}\n",
      "{'_id': ObjectId('63481467120da140dca591a5'), 'name': '收纳箱', 'price': 20, 'store': '收纳日用专营店', 'category': '日用品', 'amount': 3900}\n",
      "{'_id': ObjectId('63481467120da140dca5919d'), 'name': '全麦吐司', 'price': 20, 'store': '七年五季', 'category': '食品', 'amount': 380}\n",
      "{'_id': ObjectId('63481467120da140dca5919e'), 'name': '欧包', 'price': 29.9, 'store': '七年五季', 'category': '食品', 'amount': 200}\n",
      "{'_id': ObjectId('634813e8120da140dca5919b'), 'name': '《数据库系统概论》', 'price': 30, 'store': '高等教育出版社', 'category': '书籍', 'amount': 100}\n",
      "{'_id': ObjectId('63481467120da140dca591a6'), 'name': '三九感冒灵颗粒', 'price': 35, 'store': '阿里健康大药房', 'category': '药品', 'amount': 2150}\n",
      "{'_id': ObjectId('63481467120da140dca5919f'), 'name': '洗衣液', 'price': 36.9, 'store': '蓝月亮官方旗舰店', 'category': '日用品', 'amount': 2600}\n",
      "{'_id': ObjectId('63481467120da140dca5919c'), 'name': '洗衣液', 'price': 38.9, 'store': '天猫超市', 'category': '日用品', 'amount': 3500}\n",
      "{'_id': ObjectId('63481467120da140dca591a1'), 'name': '《数据结构》', 'price': 50, 'store': '清华大学出版社', 'category': '书籍', 'amount': 58}\n",
      "{'_id': ObjectId('63481467120da140dca591a2'), 'name': '《数据库原理与应用》', 'price': 70, 'store': '清华大学出版社', 'category': '书籍', 'amount': 500}\n",
      "{'_id': ObjectId('63481467120da140dca591a4'), 'name': '运动鞋', 'price': 899, 'store': '耐克官方旗舰店', 'category': '服饰', 'amount': 1200}\n"
     ]
    }
   ],
   "source": [
    "# 查询文档时，默认是按照_id值升序排列的\n",
    "\n",
    "# sort()可用来指定文档排序规则\n",
    "# 排序规则可包含多个条件\n",
    "myquery = {'name':'全麦吐司'}\n",
    "newvalues = {'$set':{'price':20}}\n",
    "commodities.update_one(myquery, newvalues)\n",
    "\n",
    "mydoc = commodities.find().sort([('price',1), ('amount',-1)])\n",
    "for x in mydoc:\n",
    "    print(x)"
   ]
  },
  {
   "cell_type": "code",
   "execution_count": 85,
   "metadata": {},
   "outputs": [
    {
     "name": "stdout",
     "output_type": "stream",
     "text": [
      "{'_id': ObjectId('634813e8120da140dca5919b'), 'name': '《数据库系统概论》'}\n",
      "{'_id': ObjectId('63481467120da140dca5919c'), 'name': '洗衣液'}\n",
      "{'_id': ObjectId('63481467120da140dca5919d'), 'name': '全麦吐司'}\n",
      "{'_id': ObjectId('63481467120da140dca5919e'), 'name': '欧包'}\n",
      "{'_id': ObjectId('63481467120da140dca5919f'), 'name': '洗衣液'}\n",
      "{'_id': ObjectId('63481467120da140dca591a0'), 'name': '手帕纸'}\n",
      "{'_id': ObjectId('63481467120da140dca591a1'), 'name': '《数据结构》'}\n",
      "{'_id': ObjectId('63481467120da140dca591a2'), 'name': '《数据库原理与应用》'}\n",
      "{'_id': ObjectId('63481467120da140dca591a3'), 'name': '洗衣液'}\n",
      "{'_id': ObjectId('63481467120da140dca591a4'), 'name': '运动鞋'}\n",
      "{'_id': ObjectId('63481467120da140dca591a5'), 'name': '收纳箱'}\n",
      "{'_id': ObjectId('63481467120da140dca591a6'), 'name': '三九感冒灵颗粒'}\n",
      "----------------------------------------------------------------------------------------------------------------------------\n",
      "{'name': '《数据库系统概论》', 'price': 30}\n",
      "{'name': '洗衣液', 'price': 38.9}\n",
      "{'name': '全麦吐司', 'price': 20}\n",
      "{'name': '欧包', 'price': 29.9}\n",
      "{'name': '洗衣液', 'price': 36.9}\n",
      "{'name': '手帕纸', 'price': 10}\n",
      "{'name': '《数据结构》', 'price': 50}\n",
      "{'name': '《数据库原理与应用》', 'price': 70}\n",
      "{'name': '洗衣液', 'price': 15}\n",
      "{'name': '运动鞋', 'price': 899}\n",
      "{'name': '收纳箱', 'price': 20}\n",
      "{'name': '三九感冒灵颗粒', 'price': 35}\n"
     ]
    }
   ],
   "source": [
    "# 查询文档，find()第二个参数可以设置查询结果的投影\n",
    "\n",
    "for x in commodities.find({}, {'name':1}):  # _id默认显示\n",
    "    print(x)\n",
    "\n",
    "print('----------------------------------------------------------------------------------------------------------------------------')\n",
    "\n",
    "for x in commodities.find({}, {'name':1, 'price':1, '_id':0}):\n",
    "    print(x)"
   ]
  },
  {
   "cell_type": "code",
   "execution_count": 88,
   "metadata": {},
   "outputs": [
    {
     "name": "stdout",
     "output_type": "stream",
     "text": [
      "{'_id': ObjectId('6348125b120da140dca59194'), 'order_num': 1}\n",
      "{'_id': ObjectId('6348125b120da140dca59199'), 'order_num': 1}\n",
      "{'_id': ObjectId('6348125b120da140dca59192'), 'order_num': 1}\n",
      "{'_id': ObjectId('6348125b120da140dca5919a'), 'order_num': 2}\n",
      "{'_id': ObjectId('6348125b120da140dca59195'), 'order_num': 2}\n",
      "{'_id': ObjectId('6348125b120da140dca59197'), 'order_num': 1}\n",
      "----------------------------------------------------------------------------------------------------------------------------\n",
      "{'_id': ObjectId('6348125b120da140dca59194'), 'total_num': 1}\n",
      "{'_id': ObjectId('6348125b120da140dca59199'), 'total_num': 1}\n",
      "{'_id': ObjectId('6348125b120da140dca59192'), 'total_num': 2}\n",
      "{'_id': ObjectId('6348125b120da140dca5919a'), 'total_num': 4}\n",
      "{'_id': ObjectId('6348125b120da140dca59195'), 'total_num': 2}\n",
      "{'_id': ObjectId('6348125b120da140dca59197'), 'total_num': 5}\n"
     ]
    }
   ],
   "source": [
    "# 统计每个用户的订单数量\n",
    "\n",
    "# 通过userId键对订单集合中的数据进行分组，并计算相同userId值的文档数目和\n",
    "pipeline = [{'$group':{'_id':'$userId', 'order_num':{'$sum':1}}}]\n",
    "for x in orders.aggregate(pipeline):\n",
    "    print(x)\n",
    "\n",
    "print('----------------------------------------------------------------------------------------------------------------------------')\n",
    "\n",
    "# 通过userId键对订单集合中的数据进行分组，并计算相同userId值的文档购买数量number和\n",
    "pipeline = [{'$group':{'_id':'$userId', 'total_num':{'$sum':'$number'}}}]\n",
    "for x in orders.aggregate(pipeline):\n",
    "    print(x)"
   ]
  },
  {
   "cell_type": "code",
   "execution_count": null,
   "metadata": {},
   "outputs": [],
   "source": []
  }
 ],
 "metadata": {
  "kernelspec": {
   "display_name": "Python 3",
   "language": "python",
   "name": "python3"
  },
  "language_info": {
   "codemirror_mode": {
    "name": "ipython",
    "version": 3
   },
   "file_extension": ".py",
   "mimetype": "text/x-python",
   "name": "python",
   "nbconvert_exporter": "python",
   "pygments_lexer": "ipython3",
   "version": "3.8.10"
  }
 },
 "nbformat": 4,
 "nbformat_minor": 4
}
